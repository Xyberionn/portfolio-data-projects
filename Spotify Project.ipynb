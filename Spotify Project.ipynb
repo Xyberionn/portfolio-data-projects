{
 "cells": [
  {
   "cell_type": "code",
   "execution_count": 1,
   "id": "3c753a61",
   "metadata": {},
   "outputs": [],
   "source": [
    "import spotipy\n",
    "from spotipy.oauth2 import SpotifyOAuth\n",
    "import pandas as pd\n",
    "import time"
   ]
  },
  {
   "cell_type": "code",
   "execution_count": 2,
   "id": "805156c1",
   "metadata": {},
   "outputs": [
    {
     "name": "stdout",
     "output_type": "stream",
     "text": [
      "Oğulcan - 4j17p063fi94racfiau0ksd6c\n"
     ]
    }
   ],
   "source": [
    "from spotipy import Spotify\n",
    "from spotipy.oauth2 import SpotifyOAuth\n",
    "\n",
    "CLIENT_ID = 'ClientID'\n",
    "CLIENT_SECRET = 'Client Secret'\n",
    "REDIRECT_URI = ''\n",
    "\n",
    "scope = [\"user-library-read\", \"playlist-read-private\"]\n",
    "\n",
    "sp = Spotify(auth_manager=SpotifyOAuth(client_id=CLIENT_ID,\n",
    "                                       client_secret=CLIENT_SECRET,\n",
    "                                       redirect_uri=REDIRECT_URI,\n",
    "                                       scope=scope),\n",
    "             requests_timeout=30)\n",
    "\n",
    "# Kullanıcı bilgilerini yazdır (kontrol amaçlı)\n",
    "user = sp.current_user()\n",
    "print(user[\"display_name\"], \"-\", user[\"id\"])\n"
   ]
  },
  {
   "cell_type": "code",
   "execution_count": 4,
   "id": "335056e9",
   "metadata": {},
   "outputs": [
    {
     "name": "stdout",
     "output_type": "stream",
     "text": [
      "Access Token: BQADriKVJZN5KgcITY05pdrGptyi-FbMujHD3UHE2cwuNcpU9helbXyfF2r6MYwXQJTw0LkExgcyKlnxOnXXhcLtHVSmeXw6OtKBA-c6T4CDtYzgoEKU8Olm_vMsaqKkp51WQxxDD4AThFzkwgJTGwVQOfW5KXsAv8Ad8l4VFk3FLcdSIIUy1TdY2Aj72oR75ItNvXMkYZMQpJGagDXI_cBsFwklTi0r8MiZit5ypTGKmx8yyvz0-iHMuquV63MQJg\n"
     ]
    }
   ],
   "source": [
    "token_info = sp.auth_manager.get_cached_token()\n",
    "if token_info:\n",
    "    access_token = token_info['access_token']\n",
    "    print(\"Access Token:\", access_token)\n",
    "else:\n",
    "    print(\"Token bulunamadı.\")\n"
   ]
  },
  {
   "cell_type": "code",
   "execution_count": null,
   "id": "4c2ad768",
   "metadata": {},
   "outputs": [
    {
     "name": "stderr",
     "output_type": "stream",
     "text": [
      "HTTP Error for GET to https://api.spotify.com/v1/audio-features/?ids=4qKcDkK6siZ7Jp1Jb4m0aL,6T8cJz5lAqGer9GUHGyelE,0gV5B7zmJkS1aaH9APokrH,5S1IUPueD0xE0vj4zU3nSf,46gjYTEK7W8ZTABcglGP2f,3dgQqOiQ9fCKVhNOedd2lf,62vpWI1CHwFy7tMIcSStl8,2Vx8E3K5icPZR7OCklWBXX,7p7pzSVr2zovan3m1m5hFm,0bAkKNCQfWkexHFn7fIKns,7rC5Pl8rQSX4myONQHYPBK,5R691ipUYRDYW6ehapjoj6,4XoP1AkbOurU9CeZ2rMEz2,2xLMifQCjDGFmkHkpNLD9h,6OaVWaGfhXn70ZJfdVcabn,1xYpVRspgaLxdJLOTQkTjg,6Ius4TC0L3cN74HT7ENE6e,4KYS9GK68yeuUJ8vJfPxrq,6gBFPUFcJLzWGx4lenP6h2,5e574bhjycX1eH2l4Auage,04MLEeAMuV9IlHEsD8vF6A,1AqemxWsT0iGg5Lvkm16Bt,2IRZnDFmlqMuOrYOLnZZyc,6MWtB6iiXyIwun0YzU6DFP,1rlIrbWboTRGeKfHhgbJRZ,7floNISpH8VF4z4459Qo18,5tFep7dXGd7vEJ668wTPux,2JvzF1RMd7lE3KmFlsyZD8,1knDG6hRiyjs3d7tG4GJ2Z,79XrkTOfV1AqySNjVlygpW,7DcvwMAiqKJQD1rrdfxSDx,4k2l5T9ulYdnlQzlmzSqUI,5ry2OE6R2zPQFDO85XkgRb,6UjfByV1lDLW0SOVQA4NAi,5cXg9IQS34FzLVdHhp7hu7,6MF4tRr5lU8qok8IKaFOBE,7ycWLEP1GsNjVvcjawXz3z,2jTujnt0y344ai1rNOywgr,2hyF1YWdX8yxExvRelT9nB,7KZ5MMVgBVox9ycroB2UrI,2cYqizR4lgvp4Qu6IQ3qGN,7pas6O1LYbaeChEFQBhPFU,1wHZx0LgzFHyeIZkUydNXq,5uNhWDGP1gXxS2IZl2alGx,3eekarcy7kvN4yt5ZFzltW,3GIlkmoqNZ3FC406hjYWOj,0utlOiJy2weVl9WTkcEWHy,5InOp6q2vvx0fShv3bzFLZ,4kdfjhj9xNkYU0R8xlDy8k,1nX9KhK3Fff27SnrIor2Yb with Params: {} returned 403 due to None\n",
      "HTTP Error for GET to https://api.spotify.com/v1/audio-features/?ids=1wIQtB3UQ1TfjNMZZqO6eh,5lBzjMCr2QRoNlleZq6l7P,3Kd6Wp3lG5HXMB2dlvuy7y,6REbwUNlppTfcnV4d4ZoZi,6gi6y1xwmVszDWkUqab1qw,43uQtNJUmlEdJtjbz6GdGL,5KpUzmHFirESqWjCrXnmWS,5yY9lUy8nbvjM1Uyo1Uqoc,12d5QFwzh60IIHlsSnAvps,4ckuS4Nj4FZ7i3Def3Br8W,0mkjekH9rwp4Fg5PxzUTrd,7lL3MvFWFFSD25pBz72Agj,4v7SAP4KD96BFLWiCd1vF0,27a1mYSG5tYg7dmEjWBcmL,5NFYuqu8V6QXc6mzcLImd6,2wAJTrFhCnQyNSD3oUgTZO,2iicKPnvOKfbJZJZtuQnjy,127QTOFJsJQp5LbJbu3A1y,5Mtt6tZSZA9cXTHGSGpyh0,39Yp9wwQiSRIDOvrVg7mbk,7im3jaJBEYivH5JKXMh1Yy,23d6F7ZKLNM6t0mAhSA3jp,5TCBWmEBrin7etRa4Lswr1,6Kj17Afjo1OKJYpf5VzCeo,1I55Ea0zVoSKs6MqW7DQ3i,4MggpJSpLnVQe7GPuk0LxE,4kfeRwpq5KUaqTkgi4TbDF,2YaDRtIlQiZ5WDDB2YuEOC,3a8tAZFJxlmBwOtrf5L1oC,4YhJ3a6kBPGJWX4Ek77sDd,5fHrHoJKfCgBd35zwIBmUK,58TaFP5j5i9swOf584yon2,5YYjsDIxJKpVgNLkPpBmRA,2B94v7SFK6tkDmexC2m4sy,6EDO9iiTtwNv6waLwa1UUq,1u0CD4fcBUB1xrG9fNgejh,551xyaSJsg8hILXFq9JdST,4pM4yFNLj3pTiNXOZsWYxf,1anNAtJEY6PC1rI8iTnPk0,33gwZOGJWEZ7dRWPqPxBEZ,4VLTxHOyFX5FRtkpsFm5Pc,4jVBIpuOiMj1crqd8LoCrJ,5SWnsxjhdcEDc7LJjq9UHk,2QeQNF182V61Im0QpjdVta,5nN8BwAQDJDguq7Dpd3JQQ,3aQem4jVGdhtg116TmJnHz,65OVbaJR5O1RmwOQx0875b,661wc0CTq5MbppEG6zYP5n,3KixNgUEaDtrKJVzdqjU5q,3WpHqtFUwzIQBsV9YC5iNc with Params: {} returned 403 due to None\n"
     ]
    },
    {
     "name": "stdout",
     "output_type": "stream",
     "text": [
      "API hatası: http status: 403, code: -1 - https://api.spotify.com/v1/audio-features/?ids=4qKcDkK6siZ7Jp1Jb4m0aL,6T8cJz5lAqGer9GUHGyelE,0gV5B7zmJkS1aaH9APokrH,5S1IUPueD0xE0vj4zU3nSf,46gjYTEK7W8ZTABcglGP2f,3dgQqOiQ9fCKVhNOedd2lf,62vpWI1CHwFy7tMIcSStl8,2Vx8E3K5icPZR7OCklWBXX,7p7pzSVr2zovan3m1m5hFm,0bAkKNCQfWkexHFn7fIKns,7rC5Pl8rQSX4myONQHYPBK,5R691ipUYRDYW6ehapjoj6,4XoP1AkbOurU9CeZ2rMEz2,2xLMifQCjDGFmkHkpNLD9h,6OaVWaGfhXn70ZJfdVcabn,1xYpVRspgaLxdJLOTQkTjg,6Ius4TC0L3cN74HT7ENE6e,4KYS9GK68yeuUJ8vJfPxrq,6gBFPUFcJLzWGx4lenP6h2,5e574bhjycX1eH2l4Auage,04MLEeAMuV9IlHEsD8vF6A,1AqemxWsT0iGg5Lvkm16Bt,2IRZnDFmlqMuOrYOLnZZyc,6MWtB6iiXyIwun0YzU6DFP,1rlIrbWboTRGeKfHhgbJRZ,7floNISpH8VF4z4459Qo18,5tFep7dXGd7vEJ668wTPux,2JvzF1RMd7lE3KmFlsyZD8,1knDG6hRiyjs3d7tG4GJ2Z,79XrkTOfV1AqySNjVlygpW,7DcvwMAiqKJQD1rrdfxSDx,4k2l5T9ulYdnlQzlmzSqUI,5ry2OE6R2zPQFDO85XkgRb,6UjfByV1lDLW0SOVQA4NAi,5cXg9IQS34FzLVdHhp7hu7,6MF4tRr5lU8qok8IKaFOBE,7ycWLEP1GsNjVvcjawXz3z,2jTujnt0y344ai1rNOywgr,2hyF1YWdX8yxExvRelT9nB,7KZ5MMVgBVox9ycroB2UrI,2cYqizR4lgvp4Qu6IQ3qGN,7pas6O1LYbaeChEFQBhPFU,1wHZx0LgzFHyeIZkUydNXq,5uNhWDGP1gXxS2IZl2alGx,3eekarcy7kvN4yt5ZFzltW,3GIlkmoqNZ3FC406hjYWOj,0utlOiJy2weVl9WTkcEWHy,5InOp6q2vvx0fShv3bzFLZ,4kdfjhj9xNkYU0R8xlDy8k,1nX9KhK3Fff27SnrIor2Yb:\n",
      " None, reason: None\n",
      "API hatası: http status: 403, code: -1 - https://api.spotify.com/v1/audio-features/?ids=1wIQtB3UQ1TfjNMZZqO6eh,5lBzjMCr2QRoNlleZq6l7P,3Kd6Wp3lG5HXMB2dlvuy7y,6REbwUNlppTfcnV4d4ZoZi,6gi6y1xwmVszDWkUqab1qw,43uQtNJUmlEdJtjbz6GdGL,5KpUzmHFirESqWjCrXnmWS,5yY9lUy8nbvjM1Uyo1Uqoc,12d5QFwzh60IIHlsSnAvps,4ckuS4Nj4FZ7i3Def3Br8W,0mkjekH9rwp4Fg5PxzUTrd,7lL3MvFWFFSD25pBz72Agj,4v7SAP4KD96BFLWiCd1vF0,27a1mYSG5tYg7dmEjWBcmL,5NFYuqu8V6QXc6mzcLImd6,2wAJTrFhCnQyNSD3oUgTZO,2iicKPnvOKfbJZJZtuQnjy,127QTOFJsJQp5LbJbu3A1y,5Mtt6tZSZA9cXTHGSGpyh0,39Yp9wwQiSRIDOvrVg7mbk,7im3jaJBEYivH5JKXMh1Yy,23d6F7ZKLNM6t0mAhSA3jp,5TCBWmEBrin7etRa4Lswr1,6Kj17Afjo1OKJYpf5VzCeo,1I55Ea0zVoSKs6MqW7DQ3i,4MggpJSpLnVQe7GPuk0LxE,4kfeRwpq5KUaqTkgi4TbDF,2YaDRtIlQiZ5WDDB2YuEOC,3a8tAZFJxlmBwOtrf5L1oC,4YhJ3a6kBPGJWX4Ek77sDd,5fHrHoJKfCgBd35zwIBmUK,58TaFP5j5i9swOf584yon2,5YYjsDIxJKpVgNLkPpBmRA,2B94v7SFK6tkDmexC2m4sy,6EDO9iiTtwNv6waLwa1UUq,1u0CD4fcBUB1xrG9fNgejh,551xyaSJsg8hILXFq9JdST,4pM4yFNLj3pTiNXOZsWYxf,1anNAtJEY6PC1rI8iTnPk0,33gwZOGJWEZ7dRWPqPxBEZ,4VLTxHOyFX5FRtkpsFm5Pc,4jVBIpuOiMj1crqd8LoCrJ,5SWnsxjhdcEDc7LJjq9UHk,2QeQNF182V61Im0QpjdVta,5nN8BwAQDJDguq7Dpd3JQQ,3aQem4jVGdhtg116TmJnHz,65OVbaJR5O1RmwOQx0875b,661wc0CTq5MbppEG6zYP5n,3KixNgUEaDtrKJVzdqjU5q,3WpHqtFUwzIQBsV9YC5iNc:\n",
      " None, reason: None\n"
     ]
    },
    {
     "name": "stderr",
     "output_type": "stream",
     "text": [
      "HTTP Error for GET to https://api.spotify.com/v1/audio-features/?ids=3yaYgjEFkRw3PVjW9mV1TO,2tUL6dZf1mywCj5WvCPZw6,40iJIUlhi6renaREYGeIDS,7F9cT6hIRhnFCYP6GKS0tf,3i952xMg7getPjzoOukIWh,1XKTvkeaZy5gueNNZYL7rE,6c5wQFfJApRMooKE7UQnlH,2oFdrFpXDgPcszmfWaKboI,4R67rQNSbbsR4TdUVOIdez,08F16baYbciTva9P4BvpiI,3szf2z1Cy1QMrtHrbn8rz9,1dUHF4RyMmMTveJ0Rby6Xm,6jy9yJfgCsMHdu2Oz4BGKX,6WSBZroxQaO3FYEpT2ACFH,4D1eVq5AUILwjg3tAe7o6M,0UTyLmkQgPOEIz95OVAJTR,30KctD1WsHKTIYczXjip5a,6AshXllQhobwSXsdpgp41w,5W8jRrZ6tWrTrqnKRtIQBf,08LwMWf5Tcfsd752EPzFV0,7EulRO07ZgchxqKUHb8Pvc,4fHRUyNTNVD0HRe4YPYA4m,4WEuEfFiczWxblHyuucSBL,4nuAslShoN77tq12fzwjUq,6myUpr3GDR80Dg3zqNTmmG,3f2k8op0nWDoZM4pXim6wG,2cnKST6T9qUo2i907lm8zX,4KDNRh9Oor80z3XIxdWlui,4n6NDfYake476trCjJRNl0,7Bpx2vsWfQFBACRz4h3IqH,3iVcZ5G6tvkXZkZKlMpIUs,3qX1dqmDdmMvvfMVfsx4Bh,6PzDwzYlw2gH6pYFQqNnFA,0JEefF2thwTsgWE2Wv0IsC,5pQZullzXsixizZmBcmXhy,2lD6AoA8qf2t4Dkf2TcmNK,6rTInqW3YECMkQsBEHw4sd,69WMdZSqdQwFgLVpbMsZ2J,4o7sl87Ock4SGA8b3gRR2l,6OrTKLtcF7EBayOV2QqkSK,0N3W5peJUQtI4eyR6GJT5O,1eRBW1HcyM1zPlxO26cScZ,1H7yy9jlDYS2EBF41J6Yf5,4gHV947Q9UAUse8jl8agb6,6wyhUr4Xw8z5uSy0AhoZfU,1wMkfavYDIX8z0S5fM2Gmg,5MMW4CZsZiZt2iuqAXzzWC,2FeBslNBMdR9V58uv6hd2t,05zd5Nv0e02ZqrlC8A2cwx,6gI9b2VsoWhjhIuIeToDVs with Params: {} returned 403 due to None\n",
      "HTTP Error for GET to https://api.spotify.com/v1/audio-features/?ids=401160izncPtca3CmX3dvM,7pj6P5WnxkZsw3XRc8eMe1,3tYTyAt1q6BFBiGyYVOLhi,0YeUVm23SAkUruwEx9LWnt,7zvfDihYiJ8RQ1nRcpKBF5,7eDfKcABt8DxtQCp9bczwe,15hJmqqEtASVXl6sM7i4UF,1YYSGVMyHKhVi1ef46zNB9,02rdXe0KhMe8p6ZHzYtuw0,3aaRK3htdVkK2pqOI64FEb,0zO8ctW0UiuOefR87OeJOZ,62tDpymKVSXEu0W3d4AMr9,7uZqvqXzzYMKrexKxdcGmd,3F5CgOj3wFlRv51JsHbxhe,4rmVZajAF7PkrCagGPHbqa,2wGSgTmgSF3xjRrHkTc25R,3tmpJN9fGVkrhlNkZVgH90,0IH3D0P8OrQFs6ajcqbm0R,2BcMwX1MPV6ZHP4tUT9uq6,466cKvZn1j45IpxDdYZqdA,2durxb17bXcmQJHSt8JAdO,4DSS2IhBFgW7MYyjkOOx68,59nOXPmaKlBfGMDeOVGrIK,4sFzG7iUlyPmuyASCkre9A,0BCNSmIcyYpFd62IucNCbB,5ZEdSY99Mj5U4MIF97EKER,6WI33r2QRxyxttn3KH0XkC,1HNs07uZxZniPNmniw2GTa,6AGON2BGdPmPMJGiiNuuwl,6I6NX6tjGsxFAsIfGzY9lJ,3pjUyVbFmM96tYhSaKJwTt,4txn9qnwK3ILQqv5oq2mO3,4qRjfovbhI4EwP7VQNfxVW,4haJoBPbPj9QFKNpp9e8kx,69fnnbeoZO9h16CUZGIbTG,2ZRo7axmMPeSVUvDbGkJah,4riI8HuqMYwKHfTlYMp6W8,2NM0qHzx4Ohy8iXHEEgwlO,1xzBco0xcoJEDXktl7Jxrr,3WwrnUmXEIMHuaghtz0OHD,1Ci4wASMY4xtKVMeHA6Sd5,1eLU27PPFxBhbp1CBjPh9J,4Mb5DVgLbFjlSwcuMdOw7B,3mTpegrOwRn0oJjv4TSbEE,0vbmYCIWENdYyJ36Q4CdSz,1WWCpeMyByhHYM2K9atukB,2aerPJ594vJMo0lK0hHGRO,5R443dM3IGHeWtVuro7DQA,5XFoaqV1Z8XaLJidchVWhh,7DKUPwv37Z3ihHc4IoCav0 with Params: {} returned 403 due to None\n"
     ]
    },
    {
     "name": "stdout",
     "output_type": "stream",
     "text": [
      "API hatası: http status: 403, code: -1 - https://api.spotify.com/v1/audio-features/?ids=3yaYgjEFkRw3PVjW9mV1TO,2tUL6dZf1mywCj5WvCPZw6,40iJIUlhi6renaREYGeIDS,7F9cT6hIRhnFCYP6GKS0tf,3i952xMg7getPjzoOukIWh,1XKTvkeaZy5gueNNZYL7rE,6c5wQFfJApRMooKE7UQnlH,2oFdrFpXDgPcszmfWaKboI,4R67rQNSbbsR4TdUVOIdez,08F16baYbciTva9P4BvpiI,3szf2z1Cy1QMrtHrbn8rz9,1dUHF4RyMmMTveJ0Rby6Xm,6jy9yJfgCsMHdu2Oz4BGKX,6WSBZroxQaO3FYEpT2ACFH,4D1eVq5AUILwjg3tAe7o6M,0UTyLmkQgPOEIz95OVAJTR,30KctD1WsHKTIYczXjip5a,6AshXllQhobwSXsdpgp41w,5W8jRrZ6tWrTrqnKRtIQBf,08LwMWf5Tcfsd752EPzFV0,7EulRO07ZgchxqKUHb8Pvc,4fHRUyNTNVD0HRe4YPYA4m,4WEuEfFiczWxblHyuucSBL,4nuAslShoN77tq12fzwjUq,6myUpr3GDR80Dg3zqNTmmG,3f2k8op0nWDoZM4pXim6wG,2cnKST6T9qUo2i907lm8zX,4KDNRh9Oor80z3XIxdWlui,4n6NDfYake476trCjJRNl0,7Bpx2vsWfQFBACRz4h3IqH,3iVcZ5G6tvkXZkZKlMpIUs,3qX1dqmDdmMvvfMVfsx4Bh,6PzDwzYlw2gH6pYFQqNnFA,0JEefF2thwTsgWE2Wv0IsC,5pQZullzXsixizZmBcmXhy,2lD6AoA8qf2t4Dkf2TcmNK,6rTInqW3YECMkQsBEHw4sd,69WMdZSqdQwFgLVpbMsZ2J,4o7sl87Ock4SGA8b3gRR2l,6OrTKLtcF7EBayOV2QqkSK,0N3W5peJUQtI4eyR6GJT5O,1eRBW1HcyM1zPlxO26cScZ,1H7yy9jlDYS2EBF41J6Yf5,4gHV947Q9UAUse8jl8agb6,6wyhUr4Xw8z5uSy0AhoZfU,1wMkfavYDIX8z0S5fM2Gmg,5MMW4CZsZiZt2iuqAXzzWC,2FeBslNBMdR9V58uv6hd2t,05zd5Nv0e02ZqrlC8A2cwx,6gI9b2VsoWhjhIuIeToDVs:\n",
      " None, reason: None\n",
      "API hatası: http status: 403, code: -1 - https://api.spotify.com/v1/audio-features/?ids=401160izncPtca3CmX3dvM,7pj6P5WnxkZsw3XRc8eMe1,3tYTyAt1q6BFBiGyYVOLhi,0YeUVm23SAkUruwEx9LWnt,7zvfDihYiJ8RQ1nRcpKBF5,7eDfKcABt8DxtQCp9bczwe,15hJmqqEtASVXl6sM7i4UF,1YYSGVMyHKhVi1ef46zNB9,02rdXe0KhMe8p6ZHzYtuw0,3aaRK3htdVkK2pqOI64FEb,0zO8ctW0UiuOefR87OeJOZ,62tDpymKVSXEu0W3d4AMr9,7uZqvqXzzYMKrexKxdcGmd,3F5CgOj3wFlRv51JsHbxhe,4rmVZajAF7PkrCagGPHbqa,2wGSgTmgSF3xjRrHkTc25R,3tmpJN9fGVkrhlNkZVgH90,0IH3D0P8OrQFs6ajcqbm0R,2BcMwX1MPV6ZHP4tUT9uq6,466cKvZn1j45IpxDdYZqdA,2durxb17bXcmQJHSt8JAdO,4DSS2IhBFgW7MYyjkOOx68,59nOXPmaKlBfGMDeOVGrIK,4sFzG7iUlyPmuyASCkre9A,0BCNSmIcyYpFd62IucNCbB,5ZEdSY99Mj5U4MIF97EKER,6WI33r2QRxyxttn3KH0XkC,1HNs07uZxZniPNmniw2GTa,6AGON2BGdPmPMJGiiNuuwl,6I6NX6tjGsxFAsIfGzY9lJ,3pjUyVbFmM96tYhSaKJwTt,4txn9qnwK3ILQqv5oq2mO3,4qRjfovbhI4EwP7VQNfxVW,4haJoBPbPj9QFKNpp9e8kx,69fnnbeoZO9h16CUZGIbTG,2ZRo7axmMPeSVUvDbGkJah,4riI8HuqMYwKHfTlYMp6W8,2NM0qHzx4Ohy8iXHEEgwlO,1xzBco0xcoJEDXktl7Jxrr,3WwrnUmXEIMHuaghtz0OHD,1Ci4wASMY4xtKVMeHA6Sd5,1eLU27PPFxBhbp1CBjPh9J,4Mb5DVgLbFjlSwcuMdOw7B,3mTpegrOwRn0oJjv4TSbEE,0vbmYCIWENdYyJ36Q4CdSz,1WWCpeMyByhHYM2K9atukB,2aerPJ594vJMo0lK0hHGRO,5R443dM3IGHeWtVuro7DQA,5XFoaqV1Z8XaLJidchVWhh,7DKUPwv37Z3ihHc4IoCav0:\n",
      " None, reason: None\n"
     ]
    },
    {
     "name": "stderr",
     "output_type": "stream",
     "text": [
      "HTTP Error for GET to https://api.spotify.com/v1/audio-features/?ids=0LnS7aOdOdI1dNKZqdOLz4,1AufKRy3qVHdHmbwusee6A,6VPNLfB45fVbispXeNNHDB,46s57QULU02Voy0Kup6UEb,2r6OAV3WsYtXuXjvJ1lIDi,3oHkMCVJyOcjg5FhfLc2Rq,3DWjFSDEQ9IWz1mj449fB7,57BGVV6wcyhbn3hsjlqEZB,1bDbXMyjaUIooNwFE9wn0N,5unjCay0kUjuej5ebn4nS4,2KLwPaRDOB87XOYAT2fgxh,5H4mXWKcicuLKDn4Jy0sK7,3EMp20j5E42MxfFbsEsIvD,433P7tDcIAi6NLnf4Sh6tI,2ZL7WZcjuYKi1KUDtp4kCC,34tz0eDhGuFErIuW3q4mPX,45pUWUeEWGoSdH6UF162G8,5BXGLYOc7VY1YZsrLYDOxZ,12CNybio0Bxean3F3uYugU,1pRkGgpQGX6nr8PrO1NMIs,3GVkPk8mqxz0itaAriG1L7,2rFTRICumonxxZKxxfEu8R,4N9QsmvQJcGwJHAmDmBttU,7CC6UbCs4iGsePSzFxYxNn,1Is8hGpkGMiePASAxBluxM,0YImOCkIJ2PWhCXaURCZnY,792HwhrdO3ErRKL5yRe4Ge,609mekAwxC90JkQ4BDo9IK,7wTA0NKIm6T7nP2kaymU2a,4wNKxMbE3n1gRm4F6OaCP1,6gbiTbclnHlmSIPfmF2zEc,5ClRKRmW1p6RQcdwzY1kNJ,5Ee4IyhPaOVRMc15fUOeG9,4WuOWVnAqvEQxgSRrspBgt,7INo35yvWnVY5PcEUlg1d4,14qNHvX8h6HoynFuV0RxWS,5hVghJ4KaYES3BFUATCYn0,2FqqVHvC4eKrsk97vpMRid,2GAhgAjOhEmItWLfgisyOn,4KW1lqgSr8TKrvBII0Brf8,6tZ3b7ik1QDXFAZlXib0YZ,2e3Ea0o24lReQFR4FA7yXH,1pacwLXyRO47ka0v6LTIiY,7GeTsDIc5ykNB6lORO6Cee,1qA7crrPzO702kDZgRAhyk,4FyesJzVpA39hbYvcseO2d,6wsqVwoiVH2kde4k4KKAFU,0lodMO0qK83vfPiiD7FMEt,7aqfrAY2p9BUSiupwk3svU,1iUlclkUb1sXcmrDqfQkIH with Params: {} returned 403 due to None\n",
      "HTTP Error for GET to https://api.spotify.com/v1/audio-features/?ids=42VsgItocQwOQC3XWZ8JNA,0Fg88OWOdERXLMDcTWYwjf,5gFoAVTN9YlM9uJCrFZtgl,5BOBHIBuzvQuIYL1E1nDzl,6cmXX1EiigAAyvahpqfa4c,5wG3HvLhF6Y5KTGlK0IW3J,2yUzr8Sr6ldG8vmHhZwTnz,0fyP96TikhD9sM4eKqw5Yp,52eIcoLUM25zbQupAZYoFh,6TdFkofgTvN0WfnWFmh4a6,1PH2MDbcBAU094DlgTIND1,0xaFw2zDYf1rIJWl2dXiSF,29YW2xXlo6Pc6M0SBTCXYN,4m4BHvDfzIgj5LbQLuFiIp,4kjI1gwQZRKNDkw1nI475M,7wBJfHzpfI3032CSD7CE2m,6BJbOXDlgVAXSaq6wYFYT2,1m8WpLYXEiNVZchsWEcCSy,51RaJOy09JMFHyPaDgXxBO,0Mrnt1YqVuW2bqmwu4VxDt,2nibvvDdAQkVraYP00z2RS,2tudvzsrR56uom6smgOcSf,28drn6tQo95MRvO0jQEo5C,0hKtu53OlIFXVuYkZwcn3o,3OxL6MuctgZp1e0zxoAZhH,4e0uZkMYa8e8HJ5TEUN417,5RMTsrJkrtumtiIZjy7dL6,2mhdhTWqT8RhkTlN2yWZZi,70ToiXlzl8N1EgfC07ZcZE,0cGn4vxyoBftN61XUv2aQk,4Orf7Hvci6SZrPIoUjGuFY,350l5Tkctw6RMcIdl7MlaS,3eh51r6rFWAlGQRlHx9QnQ,177WEvlLsCc0FzCTWslawr,77DRzu7ERs0TX3roZcre7Q,1wFFFzJ5EsKbBWZriAcubN,6AI3ezQ4o3HUoP6Dhudph3,6Aj2H0Z0v0JgnSfPEwCgW0,4VnYL2m6J9kWrBSw22CXwx,16utyJfWZGkTWYDobMzND7,4nva9EpKntUTs6CRSGBCn9,2Gk6fi0dqt91NKvlzGsmm7,4IFd7EVCyJsUHesBMXI8ju,0yiP9YTs4J4eQVU5Zc42QL,4VQO1UdVIecQqB49PlANHz,1D3z6HTiQsNmZxjl7F7eoG,4b7vk8SRcYgnxpk0JOIS7r,4nhcjelU9PidsBzUkazfZs,1560osUcXrnov6yuOjXvc1,5gzEL5O1ubbtIHUhLkSMTz with Params: {} returned 403 due to None\n"
     ]
    },
    {
     "name": "stdout",
     "output_type": "stream",
     "text": [
      "API hatası: http status: 403, code: -1 - https://api.spotify.com/v1/audio-features/?ids=0LnS7aOdOdI1dNKZqdOLz4,1AufKRy3qVHdHmbwusee6A,6VPNLfB45fVbispXeNNHDB,46s57QULU02Voy0Kup6UEb,2r6OAV3WsYtXuXjvJ1lIDi,3oHkMCVJyOcjg5FhfLc2Rq,3DWjFSDEQ9IWz1mj449fB7,57BGVV6wcyhbn3hsjlqEZB,1bDbXMyjaUIooNwFE9wn0N,5unjCay0kUjuej5ebn4nS4,2KLwPaRDOB87XOYAT2fgxh,5H4mXWKcicuLKDn4Jy0sK7,3EMp20j5E42MxfFbsEsIvD,433P7tDcIAi6NLnf4Sh6tI,2ZL7WZcjuYKi1KUDtp4kCC,34tz0eDhGuFErIuW3q4mPX,45pUWUeEWGoSdH6UF162G8,5BXGLYOc7VY1YZsrLYDOxZ,12CNybio0Bxean3F3uYugU,1pRkGgpQGX6nr8PrO1NMIs,3GVkPk8mqxz0itaAriG1L7,2rFTRICumonxxZKxxfEu8R,4N9QsmvQJcGwJHAmDmBttU,7CC6UbCs4iGsePSzFxYxNn,1Is8hGpkGMiePASAxBluxM,0YImOCkIJ2PWhCXaURCZnY,792HwhrdO3ErRKL5yRe4Ge,609mekAwxC90JkQ4BDo9IK,7wTA0NKIm6T7nP2kaymU2a,4wNKxMbE3n1gRm4F6OaCP1,6gbiTbclnHlmSIPfmF2zEc,5ClRKRmW1p6RQcdwzY1kNJ,5Ee4IyhPaOVRMc15fUOeG9,4WuOWVnAqvEQxgSRrspBgt,7INo35yvWnVY5PcEUlg1d4,14qNHvX8h6HoynFuV0RxWS,5hVghJ4KaYES3BFUATCYn0,2FqqVHvC4eKrsk97vpMRid,2GAhgAjOhEmItWLfgisyOn,4KW1lqgSr8TKrvBII0Brf8,6tZ3b7ik1QDXFAZlXib0YZ,2e3Ea0o24lReQFR4FA7yXH,1pacwLXyRO47ka0v6LTIiY,7GeTsDIc5ykNB6lORO6Cee,1qA7crrPzO702kDZgRAhyk,4FyesJzVpA39hbYvcseO2d,6wsqVwoiVH2kde4k4KKAFU,0lodMO0qK83vfPiiD7FMEt,7aqfrAY2p9BUSiupwk3svU,1iUlclkUb1sXcmrDqfQkIH:\n",
      " None, reason: None\n",
      "API hatası: http status: 403, code: -1 - https://api.spotify.com/v1/audio-features/?ids=42VsgItocQwOQC3XWZ8JNA,0Fg88OWOdERXLMDcTWYwjf,5gFoAVTN9YlM9uJCrFZtgl,5BOBHIBuzvQuIYL1E1nDzl,6cmXX1EiigAAyvahpqfa4c,5wG3HvLhF6Y5KTGlK0IW3J,2yUzr8Sr6ldG8vmHhZwTnz,0fyP96TikhD9sM4eKqw5Yp,52eIcoLUM25zbQupAZYoFh,6TdFkofgTvN0WfnWFmh4a6,1PH2MDbcBAU094DlgTIND1,0xaFw2zDYf1rIJWl2dXiSF,29YW2xXlo6Pc6M0SBTCXYN,4m4BHvDfzIgj5LbQLuFiIp,4kjI1gwQZRKNDkw1nI475M,7wBJfHzpfI3032CSD7CE2m,6BJbOXDlgVAXSaq6wYFYT2,1m8WpLYXEiNVZchsWEcCSy,51RaJOy09JMFHyPaDgXxBO,0Mrnt1YqVuW2bqmwu4VxDt,2nibvvDdAQkVraYP00z2RS,2tudvzsrR56uom6smgOcSf,28drn6tQo95MRvO0jQEo5C,0hKtu53OlIFXVuYkZwcn3o,3OxL6MuctgZp1e0zxoAZhH,4e0uZkMYa8e8HJ5TEUN417,5RMTsrJkrtumtiIZjy7dL6,2mhdhTWqT8RhkTlN2yWZZi,70ToiXlzl8N1EgfC07ZcZE,0cGn4vxyoBftN61XUv2aQk,4Orf7Hvci6SZrPIoUjGuFY,350l5Tkctw6RMcIdl7MlaS,3eh51r6rFWAlGQRlHx9QnQ,177WEvlLsCc0FzCTWslawr,77DRzu7ERs0TX3roZcre7Q,1wFFFzJ5EsKbBWZriAcubN,6AI3ezQ4o3HUoP6Dhudph3,6Aj2H0Z0v0JgnSfPEwCgW0,4VnYL2m6J9kWrBSw22CXwx,16utyJfWZGkTWYDobMzND7,4nva9EpKntUTs6CRSGBCn9,2Gk6fi0dqt91NKvlzGsmm7,4IFd7EVCyJsUHesBMXI8ju,0yiP9YTs4J4eQVU5Zc42QL,4VQO1UdVIecQqB49PlANHz,1D3z6HTiQsNmZxjl7F7eoG,4b7vk8SRcYgnxpk0JOIS7r,4nhcjelU9PidsBzUkazfZs,1560osUcXrnov6yuOjXvc1,5gzEL5O1ubbtIHUhLkSMTz:\n",
      " None, reason: None\n"
     ]
    },
    {
     "name": "stderr",
     "output_type": "stream",
     "text": [
      "HTTP Error for GET to https://api.spotify.com/v1/audio-features/?ids=1lloYB6uHOTDmheiWsq4DL,6et5HwX6nTYddg7hDGAxug,3iRCr53b2ZOvoKMTNvBn5d,6bpFKtmybxjGaO7OSOQqOc,3rXlcLZk3MCaRPND5g9QiW,1Es7AUAhQvapIcoh3qMKDL,1KmmViIziBGJQa728cXkzh,1ITpqT1kDATCtMBwOK7sYn,33zbOXJSwW7uf4VXXWow2O,124IHGAzY9F3unizZ08iRc,7CyPwkp0oE8Ro9Dd5CUDjW,1wGnp7ejkCuXRsehXx0PNP,1tTKy8pW1dMaXJm7bYrSzA,3TN2HZSll8ueBFtt88VbfX,5emD8K39MmotlCLOx9qzCH,0NUqi0ps17YpLUC3kgsZq0,2u9S9JJ6hTZS3Vf22HOZKg,5Nz7hI3cCOHmMR4vSLJ1An,3FHO87BSOEVAsedSnCTnvz,0aB0v4027ukVziUGwVGYpG,4y1kHTpSNXM4VeCUtEFA1m,2Adxpr1j5lSihOCsmIfflJ,76gcXhY3Zv6wW0BTe9nHJo,0a4SMs889NwP8oWI7Vemle,0bkV1iQHSxBaksUqgEkcbc,5BwQjRasNcdRPuVWKcHto2,2cH8wHImerFokgmhjyhCTU,3IU6xbfNZosvTdRrGs8b2u,20MuVazoNMv6xjKPnRFOxG,1cZlBZwnwGPtYeRIeQcoFh,5SIvP6TdWc9DNvKbENjnYc,68qeaZhtMZ6abrJCYt6nQn,2n9fC0A4ptmWqYeMXEVaok,1pzN8bCzy017iK3vWzkk6Z,6iycYUk3oB0NPMdaDUrN1w,3at6WxcwxONcdbvcW02OOY,0uMsWm3xNlXkQ7q78Q0QKq,2YVkpynbH4lrZQZSJiaICM,2RWlRSi9TthgUka2yrLnrD,1RDBMVHirRQ62AvujJPCZA,53WWD2BBC6Jcip8wy5CniE,42pKWuJst0oAuUbTvkNqr6,0Epl79nHvdyTdZRAiWpJah,6hPSal3ragmfUt1I5mKZjn,1OFQT3lHGbnn3x9jPtagXk,4XcZp2xqbiD8YsnPboNUDo,4Qay2jEWJYjXmJ8eNOGtaD,29TPjc8wxfz4XMn21O7VsZ,7aVjnFsARHuTBZzkR6rYOR,37Qn9foJ2E2S24guZSyvyg with Params: {} returned 403 due to None\n"
     ]
    },
    {
     "name": "stdout",
     "output_type": "stream",
     "text": [
      "API hatası: http status: 403, code: -1 - https://api.spotify.com/v1/audio-features/?ids=1lloYB6uHOTDmheiWsq4DL,6et5HwX6nTYddg7hDGAxug,3iRCr53b2ZOvoKMTNvBn5d,6bpFKtmybxjGaO7OSOQqOc,3rXlcLZk3MCaRPND5g9QiW,1Es7AUAhQvapIcoh3qMKDL,1KmmViIziBGJQa728cXkzh,1ITpqT1kDATCtMBwOK7sYn,33zbOXJSwW7uf4VXXWow2O,124IHGAzY9F3unizZ08iRc,7CyPwkp0oE8Ro9Dd5CUDjW,1wGnp7ejkCuXRsehXx0PNP,1tTKy8pW1dMaXJm7bYrSzA,3TN2HZSll8ueBFtt88VbfX,5emD8K39MmotlCLOx9qzCH,0NUqi0ps17YpLUC3kgsZq0,2u9S9JJ6hTZS3Vf22HOZKg,5Nz7hI3cCOHmMR4vSLJ1An,3FHO87BSOEVAsedSnCTnvz,0aB0v4027ukVziUGwVGYpG,4y1kHTpSNXM4VeCUtEFA1m,2Adxpr1j5lSihOCsmIfflJ,76gcXhY3Zv6wW0BTe9nHJo,0a4SMs889NwP8oWI7Vemle,0bkV1iQHSxBaksUqgEkcbc,5BwQjRasNcdRPuVWKcHto2,2cH8wHImerFokgmhjyhCTU,3IU6xbfNZosvTdRrGs8b2u,20MuVazoNMv6xjKPnRFOxG,1cZlBZwnwGPtYeRIeQcoFh,5SIvP6TdWc9DNvKbENjnYc,68qeaZhtMZ6abrJCYt6nQn,2n9fC0A4ptmWqYeMXEVaok,1pzN8bCzy017iK3vWzkk6Z,6iycYUk3oB0NPMdaDUrN1w,3at6WxcwxONcdbvcW02OOY,0uMsWm3xNlXkQ7q78Q0QKq,2YVkpynbH4lrZQZSJiaICM,2RWlRSi9TthgUka2yrLnrD,1RDBMVHirRQ62AvujJPCZA,53WWD2BBC6Jcip8wy5CniE,42pKWuJst0oAuUbTvkNqr6,0Epl79nHvdyTdZRAiWpJah,6hPSal3ragmfUt1I5mKZjn,1OFQT3lHGbnn3x9jPtagXk,4XcZp2xqbiD8YsnPboNUDo,4Qay2jEWJYjXmJ8eNOGtaD,29TPjc8wxfz4XMn21O7VsZ,7aVjnFsARHuTBZzkR6rYOR,37Qn9foJ2E2S24guZSyvyg:\n",
      " None, reason: None\n"
     ]
    },
    {
     "name": "stderr",
     "output_type": "stream",
     "text": [
      "HTTP Error for GET to https://api.spotify.com/v1/audio-features/?ids=4AmISPiQJMPLN4KootjCUu with Params: {} returned 403 due to None\n"
     ]
    },
    {
     "name": "stdout",
     "output_type": "stream",
     "text": [
      "API hatası: http status: 403, code: -1 - https://api.spotify.com/v1/audio-features/?ids=4AmISPiQJMPLN4KootjCUu:\n",
      " None, reason: None\n"
     ]
    },
    {
     "data": {
      "text/html": [
       "<div>\n",
       "<style scoped>\n",
       "    .dataframe tbody tr th:only-of-type {\n",
       "        vertical-align: middle;\n",
       "    }\n",
       "\n",
       "    .dataframe tbody tr th {\n",
       "        vertical-align: top;\n",
       "    }\n",
       "\n",
       "    .dataframe thead th {\n",
       "        text-align: right;\n",
       "    }\n",
       "</style>\n",
       "<table border=\"1\" class=\"dataframe\">\n",
       "  <thead>\n",
       "    <tr style=\"text-align: right;\">\n",
       "      <th></th>\n",
       "      <th>track_name</th>\n",
       "    </tr>\n",
       "  </thead>\n",
       "  <tbody>\n",
       "    <tr>\n",
       "      <th>0</th>\n",
       "      <td>Look Alive (feat. Drake)</td>\n",
       "    </tr>\n",
       "    <tr>\n",
       "      <th>1</th>\n",
       "      <td>God's Plan</td>\n",
       "    </tr>\n",
       "    <tr>\n",
       "      <th>2</th>\n",
       "      <td>Wow Freestyle (feat. Kendrick Lamar)</td>\n",
       "    </tr>\n",
       "    <tr>\n",
       "      <th>3</th>\n",
       "      <td>Bigger Than You (feat. Drake &amp; Quavo)</td>\n",
       "    </tr>\n",
       "    <tr>\n",
       "      <th>4</th>\n",
       "      <td>Jumpman</td>\n",
       "    </tr>\n",
       "  </tbody>\n",
       "</table>\n",
       "</div>"
      ],
      "text/plain": [
       "                              track_name\n",
       "0               Look Alive (feat. Drake)\n",
       "1                             God's Plan\n",
       "2   Wow Freestyle (feat. Kendrick Lamar)\n",
       "3  Bigger Than You (feat. Drake & Quavo)\n",
       "4                                Jumpman"
      ]
     },
     "execution_count": 8,
     "metadata": {},
     "output_type": "execute_result"
    }
   ],
   "source": [
    "# Playlist ID'yi buraya gir\n",
    "playlist_id = \"6W57V9nC35ul5GRg2J5y29\"\n",
    "\n",
    "# Playlist’ten tüm şarkıları al\n",
    "def get_all_tracks(sp, playlist_id):\n",
    "    tracks = []\n",
    "    results = sp.playlist_tracks(playlist_id, limit=100, offset=0)\n",
    "    tracks.extend(results['items'])\n",
    "    while results['next']:\n",
    "        results = sp.next(results)\n",
    "        tracks.extend(results['items'])\n",
    "    return tracks\n",
    "\n",
    "# Her şarkının audio feature'larını al\n",
    "def get_audio_features(sp, track_ids):\n",
    "    features = []\n",
    "    for i in range(0, len(track_ids), 50):\n",
    "        batch = track_ids[i:i+50]\n",
    "        try:\n",
    "            audio_features = sp.audio_features(batch)\n",
    "            features.extend([f for f in audio_features if f is not None])\n",
    "            time.sleep(0.2)\n",
    "        except spotipy.exceptions.SpotifyException as e:\n",
    "            print(f\"API hatası: {e}\")\n",
    "            continue\n",
    "    return features\n",
    "\n",
    "# 1. Şarkıları al\n",
    "tracks_data = get_all_tracks(sp, playlist_id)\n",
    "track_ids = [item['track']['id'] for item in tracks_data if item['track']]\n",
    "\n",
    "# 2. Audio feature'ları al\n",
    "features_data = get_audio_features(sp, track_ids)\n",
    "\n",
    "# 3. DataFrame'e dönüştür\n",
    "df_features = pd.DataFrame(features_data)\n",
    "\n",
    "# 4. Track isimlerini ekle\n",
    "track_names = [item['track']['name'] for item in tracks_data if item['track']]\n",
    "df_features['track_name'] = track_names\n",
    "\n",
    "# Sonuç\n",
    "df_features\n",
    "\n"
   ]
  },
  {
   "cell_type": "code",
   "execution_count": 9,
   "id": "ddbe49e5",
   "metadata": {},
   "outputs": [
    {
     "data": {
      "text/html": [
       "<div>\n",
       "<style scoped>\n",
       "    .dataframe tbody tr th:only-of-type {\n",
       "        vertical-align: middle;\n",
       "    }\n",
       "\n",
       "    .dataframe tbody tr th {\n",
       "        vertical-align: top;\n",
       "    }\n",
       "\n",
       "    .dataframe thead th {\n",
       "        text-align: right;\n",
       "    }\n",
       "</style>\n",
       "<table border=\"1\" class=\"dataframe\">\n",
       "  <thead>\n",
       "    <tr style=\"text-align: right;\">\n",
       "      <th></th>\n",
       "      <th>track_name</th>\n",
       "    </tr>\n",
       "  </thead>\n",
       "  <tbody>\n",
       "    <tr>\n",
       "      <th>0</th>\n",
       "      <td>Look Alive (feat. Drake)</td>\n",
       "    </tr>\n",
       "    <tr>\n",
       "      <th>1</th>\n",
       "      <td>God's Plan</td>\n",
       "    </tr>\n",
       "    <tr>\n",
       "      <th>2</th>\n",
       "      <td>Wow Freestyle (feat. Kendrick Lamar)</td>\n",
       "    </tr>\n",
       "    <tr>\n",
       "      <th>3</th>\n",
       "      <td>Bigger Than You (feat. Drake &amp; Quavo)</td>\n",
       "    </tr>\n",
       "    <tr>\n",
       "      <th>4</th>\n",
       "      <td>Jumpman</td>\n",
       "    </tr>\n",
       "    <tr>\n",
       "      <th>...</th>\n",
       "      <td>...</td>\n",
       "    </tr>\n",
       "    <tr>\n",
       "      <th>346</th>\n",
       "      <td>FRIED</td>\n",
       "    </tr>\n",
       "    <tr>\n",
       "      <th>347</th>\n",
       "      <td>Sky</td>\n",
       "    </tr>\n",
       "    <tr>\n",
       "      <th>348</th>\n",
       "      <td>Rookie Of The Year</td>\n",
       "    </tr>\n",
       "    <tr>\n",
       "      <th>349</th>\n",
       "      <td>Livin' My Truth</td>\n",
       "    </tr>\n",
       "    <tr>\n",
       "      <th>350</th>\n",
       "      <td>Can't Shake Her (with Ty Dolla $ign)</td>\n",
       "    </tr>\n",
       "  </tbody>\n",
       "</table>\n",
       "<p>351 rows × 1 columns</p>\n",
       "</div>"
      ],
      "text/plain": [
       "                                track_name\n",
       "0                 Look Alive (feat. Drake)\n",
       "1                               God's Plan\n",
       "2     Wow Freestyle (feat. Kendrick Lamar)\n",
       "3    Bigger Than You (feat. Drake & Quavo)\n",
       "4                                  Jumpman\n",
       "..                                     ...\n",
       "346                                  FRIED\n",
       "347                                    Sky\n",
       "348                     Rookie Of The Year\n",
       "349                        Livin' My Truth\n",
       "350   Can't Shake Her (with Ty Dolla $ign)\n",
       "\n",
       "[351 rows x 1 columns]"
      ]
     },
     "execution_count": 9,
     "metadata": {},
     "output_type": "execute_result"
    }
   ],
   "source": [
    "df_features"
   ]
  },
  {
   "cell_type": "code",
   "execution_count": 10,
   "id": "01bc518c",
   "metadata": {},
   "outputs": [
    {
     "name": "stdout",
     "output_type": "stream",
     "text": [
      "                              track_name                track_id\n",
      "0               Look Alive (feat. Drake)  6HJ34Zyw6bg8yGm28AxLXf\n",
      "1                             God's Plan  5t9KtCfnu8wQui1G6IqqBR\n",
      "2   Wow Freestyle (feat. Kendrick Lamar)  0gV5B7zmJkS1aaH9APokrH\n",
      "3  Bigger Than You (feat. Drake & Quavo)  5S1IUPueD0xE0vj4zU3nSf\n",
      "4                                Jumpman  27GmP9AWRs744SzKcpJsTZ\n"
     ]
    }
   ],
   "source": [
    "# 1. Şarkı isimleriyle ID'leri alalım\n",
    "track_ids = []\n",
    "for track_name in df_features['track_name']:\n",
    "    results = sp.search(q=track_name, limit=1)  # Her şarkıyı tek tek arıyoruz\n",
    "    track_id = results['tracks']['items'][0]['id']  # Şarkı ID'sini alıyoruz\n",
    "    track_ids.append(track_id)\n",
    "\n",
    "# 2. Şarkı ID'lerini df_features'e ekleyelim\n",
    "df_features['track_id'] = track_ids\n",
    "\n",
    "# Kontrol etmek için ilk birkaç satırı görüntüleyelim\n",
    "print(df_features.head())\n"
   ]
  },
  {
   "cell_type": "code",
   "execution_count": 18,
   "id": "ba801db3",
   "metadata": {},
   "outputs": [
    {
     "name": "stdout",
     "output_type": "stream",
     "text": [
      "Error while fetching features for chunk 1: ('Connection aborted.', RemoteDisconnected('Remote end closed connection without response'))\n",
      "Error while fetching features for chunk 2: ('Connection aborted.', RemoteDisconnected('Remote end closed connection without response'))\n"
     ]
    },
    {
     "name": "stderr",
     "output_type": "stream",
     "text": [
      "HTTP Error for GET to https://api.spotify.com/v1/audio-features/?ids=2cYqizR4lgvp4Qu6IQ3qGN,0uFz9q2SvuKyWB6Ur1YCfI,1wHZx0LgzFHyeIZkUydNXq,6KfoDhO4XUWSbnyKjNp9c4,3eekarcy7kvN4yt5ZFzltW,6CfrYuD3YRDYdYvH9jNtXY,0utlOiJy2weVl9WTkcEWHy,5InOp6q2vvx0fShv3bzFLZ,4kdfjhj9xNkYU0R8xlDy8k,0zoGVO4bQXG8U6ChKwNgeg,3GVkPk8mqxz0itaAriG1L7,5lBzjMCr2QRoNlleZq6l7P,7uSGU4SrX7NyaqGTueSZf0,6REbwUNlppTfcnV4d4ZoZi,6gi6y1xwmVszDWkUqab1qw,43uQtNJUmlEdJtjbz6GdGL,5KpUzmHFirESqWjCrXnmWS,5yY9lUy8nbvjM1Uyo1Uqoc,12d5QFwzh60IIHlsSnAvps,4ckuS4Nj4FZ7i3Def3Br8W with Params: {} returned 403 due to None\n",
      "HTTP Error for GET to https://api.spotify.com/v1/audio-features/?ids=4jtyUzZm9WLc2AdaJ1dso7,52A8OAP8lTQKZCj4Rce92B,3850dYVgOFIXJh5U4BFEWH,27a1mYSG5tYg7dmEjWBcmL,3uKqnQ0dGBcpovf9lV2nqg,2wAJTrFhCnQyNSD3oUgTZO,2iicKPnvOKfbJZJZtuQnjy,127QTOFJsJQp5LbJbu3A1y,5Mtt6tZSZA9cXTHGSGpyh0,7JSL1X95BlGnDyXAScKolp,7im3jaJBEYivH5JKXMh1Yy,2Mpj1Ul5OFPyyP4wB62Rvi,5TCBWmEBrin7etRa4Lswr1,6Kj17Afjo1OKJYpf5VzCeo,2xnXIv68ECjDeDpaZloULO,4MggpJSpLnVQe7GPuk0LxE,4kfeRwpq5KUaqTkgi4TbDF,2YaDRtIlQiZ5WDDB2YuEOC,3a8tAZFJxlmBwOtrf5L1oC,4YhJ3a6kBPGJWX4Ek77sDd with Params: {} returned 403 due to None\n",
      "HTTP Error for GET to https://api.spotify.com/v1/audio-features/?ids=5fHrHoJKfCgBd35zwIBmUK,58TaFP5j5i9swOf584yon2,1XXimziG1uhM0eDNCZCrUl,5J1wAUibWxgBp5oOrivcpQ,6EDO9iiTtwNv6waLwa1UUq,1u0CD4fcBUB1xrG9fNgejh,551xyaSJsg8hILXFq9JdST,4pM4yFNLj3pTiNXOZsWYxf,2Z71PZlOeF9YVze4hy1A1a,33gwZOGJWEZ7dRWPqPxBEZ,4VLTxHOyFX5FRtkpsFm5Pc,4jVBIpuOiMj1crqd8LoCrJ,5SWnsxjhdcEDc7LJjq9UHk,2QeQNF182V61Im0QpjdVta,5nN8BwAQDJDguq7Dpd3JQQ,3aQem4jVGdhtg116TmJnHz,65OVbaJR5O1RmwOQx0875b,661wc0CTq5MbppEG6zYP5n,3KixNgUEaDtrKJVzdqjU5q,3WpHqtFUwzIQBsV9YC5iNc with Params: {} returned 403 due to None\n"
     ]
    },
    {
     "name": "stdout",
     "output_type": "stream",
     "text": [
      "Error while fetching features for chunk 3: http status: 403, code: -1 - https://api.spotify.com/v1/audio-features/?ids=2cYqizR4lgvp4Qu6IQ3qGN,0uFz9q2SvuKyWB6Ur1YCfI,1wHZx0LgzFHyeIZkUydNXq,6KfoDhO4XUWSbnyKjNp9c4,3eekarcy7kvN4yt5ZFzltW,6CfrYuD3YRDYdYvH9jNtXY,0utlOiJy2weVl9WTkcEWHy,5InOp6q2vvx0fShv3bzFLZ,4kdfjhj9xNkYU0R8xlDy8k,0zoGVO4bQXG8U6ChKwNgeg,3GVkPk8mqxz0itaAriG1L7,5lBzjMCr2QRoNlleZq6l7P,7uSGU4SrX7NyaqGTueSZf0,6REbwUNlppTfcnV4d4ZoZi,6gi6y1xwmVszDWkUqab1qw,43uQtNJUmlEdJtjbz6GdGL,5KpUzmHFirESqWjCrXnmWS,5yY9lUy8nbvjM1Uyo1Uqoc,12d5QFwzh60IIHlsSnAvps,4ckuS4Nj4FZ7i3Def3Br8W:\n",
      " None, reason: None\n",
      "Error while fetching features for chunk 4: http status: 403, code: -1 - https://api.spotify.com/v1/audio-features/?ids=4jtyUzZm9WLc2AdaJ1dso7,52A8OAP8lTQKZCj4Rce92B,3850dYVgOFIXJh5U4BFEWH,27a1mYSG5tYg7dmEjWBcmL,3uKqnQ0dGBcpovf9lV2nqg,2wAJTrFhCnQyNSD3oUgTZO,2iicKPnvOKfbJZJZtuQnjy,127QTOFJsJQp5LbJbu3A1y,5Mtt6tZSZA9cXTHGSGpyh0,7JSL1X95BlGnDyXAScKolp,7im3jaJBEYivH5JKXMh1Yy,2Mpj1Ul5OFPyyP4wB62Rvi,5TCBWmEBrin7etRa4Lswr1,6Kj17Afjo1OKJYpf5VzCeo,2xnXIv68ECjDeDpaZloULO,4MggpJSpLnVQe7GPuk0LxE,4kfeRwpq5KUaqTkgi4TbDF,2YaDRtIlQiZ5WDDB2YuEOC,3a8tAZFJxlmBwOtrf5L1oC,4YhJ3a6kBPGJWX4Ek77sDd:\n",
      " None, reason: None\n",
      "Error while fetching features for chunk 5: http status: 403, code: -1 - https://api.spotify.com/v1/audio-features/?ids=5fHrHoJKfCgBd35zwIBmUK,58TaFP5j5i9swOf584yon2,1XXimziG1uhM0eDNCZCrUl,5J1wAUibWxgBp5oOrivcpQ,6EDO9iiTtwNv6waLwa1UUq,1u0CD4fcBUB1xrG9fNgejh,551xyaSJsg8hILXFq9JdST,4pM4yFNLj3pTiNXOZsWYxf,2Z71PZlOeF9YVze4hy1A1a,33gwZOGJWEZ7dRWPqPxBEZ,4VLTxHOyFX5FRtkpsFm5Pc,4jVBIpuOiMj1crqd8LoCrJ,5SWnsxjhdcEDc7LJjq9UHk,2QeQNF182V61Im0QpjdVta,5nN8BwAQDJDguq7Dpd3JQQ,3aQem4jVGdhtg116TmJnHz,65OVbaJR5O1RmwOQx0875b,661wc0CTq5MbppEG6zYP5n,3KixNgUEaDtrKJVzdqjU5q,3WpHqtFUwzIQBsV9YC5iNc:\n",
      " None, reason: None\n"
     ]
    },
    {
     "name": "stderr",
     "output_type": "stream",
     "text": [
      "HTTP Error for GET to https://api.spotify.com/v1/audio-features/?ids=22ruOqBqBRiZDiXFud4OXa,2tUL6dZf1mywCj5WvCPZw6,40iJIUlhi6renaREYGeIDS,7F9cT6hIRhnFCYP6GKS0tf,4Po2ztD6OBxolnmDagEh8o,4xJQDZxCjAJdemvWoBR9nL,6c5wQFfJApRMooKE7UQnlH,2oFdrFpXDgPcszmfWaKboI,4R67rQNSbbsR4TdUVOIdez,08F16baYbciTva9P4BvpiI,0nmW4fvqTwUDjlz13MNpJU,1dUHF4RyMmMTveJ0Rby6Xm,6jy9yJfgCsMHdu2Oz4BGKX,6WSBZroxQaO3FYEpT2ACFH,0F4FejjWi3bf5vGOkuQwPS,0UTyLmkQgPOEIz95OVAJTR,30KctD1WsHKTIYczXjip5a,6AshXllQhobwSXsdpgp41w,5W8jRrZ6tWrTrqnKRtIQBf,08LwMWf5Tcfsd752EPzFV0 with Params: {} returned 403 due to None\n",
      "HTTP Error for GET to https://api.spotify.com/v1/audio-features/?ids=7EulRO07ZgchxqKUHb8Pvc,2Kh1bNimYKyUI5KQsVTQuE,4WEuEfFiczWxblHyuucSBL,4nuAslShoN77tq12fzwjUq,1NCuYqMc8hKMb4cpNTcJbD,1uHb5qa69lHLcFT38fIfUG,3cLc5HfEVkD78OA8Z6IEet,4KDNRh9Oor80z3XIxdWlui,4n6NDfYake476trCjJRNl0,3QFInJAm9eyaho5vBzxInN,3iVcZ5G6tvkXZkZKlMpIUs,3qX1dqmDdmMvvfMVfsx4Bh,6PzDwzYlw2gH6pYFQqNnFA,4Acntw4W2FfI7CDAIsCBjq,5pQZullzXsixizZmBcmXhy,2lD6AoA8qf2t4Dkf2TcmNK,6rTInqW3YECMkQsBEHw4sd,69WMdZSqdQwFgLVpbMsZ2J,6mGoPw2uTheWyQwpWqSprk,6OrTKLtcF7EBayOV2QqkSK with Params: {} returned 403 due to None\n",
      "HTTP Error for GET to https://api.spotify.com/v1/audio-features/?ids=0N3W5peJUQtI4eyR6GJT5O,5jHilrZDaP1vJMZfdN1He3,6P6HGbOoWUynE2U7yLwLnY,4gHV947Q9UAUse8jl8agb6,6wyhUr4Xw8z5uSy0AhoZfU,1wMkfavYDIX8z0S5fM2Gmg,5qbhVL3vB7HwWvb0042B7y,0fX4oNGBWO3dSGUZcVdVV2,5Gt9bxniM1SxN61yRzRhXL,1XvkMeJo7OAFrzcRyGbP82,1REVvAphiSTJyKQ1fDpHa4,6BU1RZexmvJcBjgagVVt3M,3lzUeaCbcCDB5IXYfqWRlF,3drdWsJKiVCSQ2gKhd9BDT,6CmpZfKUQ2KerzBFZ3QKFr,6fIjnWrv46njJHLDAY2JdC,15hJmqqEtASVXl6sM7i4UF,3OEjvmEBRrdTYbbrkiXG8a,6UjwKoH47d2FveB38u8Si9,3aaRK3htdVkK2pqOI64FEb with Params: {} returned 403 due to None\n"
     ]
    },
    {
     "name": "stdout",
     "output_type": "stream",
     "text": [
      "Error while fetching features for chunk 6: http status: 403, code: -1 - https://api.spotify.com/v1/audio-features/?ids=22ruOqBqBRiZDiXFud4OXa,2tUL6dZf1mywCj5WvCPZw6,40iJIUlhi6renaREYGeIDS,7F9cT6hIRhnFCYP6GKS0tf,4Po2ztD6OBxolnmDagEh8o,4xJQDZxCjAJdemvWoBR9nL,6c5wQFfJApRMooKE7UQnlH,2oFdrFpXDgPcszmfWaKboI,4R67rQNSbbsR4TdUVOIdez,08F16baYbciTva9P4BvpiI,0nmW4fvqTwUDjlz13MNpJU,1dUHF4RyMmMTveJ0Rby6Xm,6jy9yJfgCsMHdu2Oz4BGKX,6WSBZroxQaO3FYEpT2ACFH,0F4FejjWi3bf5vGOkuQwPS,0UTyLmkQgPOEIz95OVAJTR,30KctD1WsHKTIYczXjip5a,6AshXllQhobwSXsdpgp41w,5W8jRrZ6tWrTrqnKRtIQBf,08LwMWf5Tcfsd752EPzFV0:\n",
      " None, reason: None\n",
      "Error while fetching features for chunk 7: http status: 403, code: -1 - https://api.spotify.com/v1/audio-features/?ids=7EulRO07ZgchxqKUHb8Pvc,2Kh1bNimYKyUI5KQsVTQuE,4WEuEfFiczWxblHyuucSBL,4nuAslShoN77tq12fzwjUq,1NCuYqMc8hKMb4cpNTcJbD,1uHb5qa69lHLcFT38fIfUG,3cLc5HfEVkD78OA8Z6IEet,4KDNRh9Oor80z3XIxdWlui,4n6NDfYake476trCjJRNl0,3QFInJAm9eyaho5vBzxInN,3iVcZ5G6tvkXZkZKlMpIUs,3qX1dqmDdmMvvfMVfsx4Bh,6PzDwzYlw2gH6pYFQqNnFA,4Acntw4W2FfI7CDAIsCBjq,5pQZullzXsixizZmBcmXhy,2lD6AoA8qf2t4Dkf2TcmNK,6rTInqW3YECMkQsBEHw4sd,69WMdZSqdQwFgLVpbMsZ2J,6mGoPw2uTheWyQwpWqSprk,6OrTKLtcF7EBayOV2QqkSK:\n",
      " None, reason: None\n",
      "Error while fetching features for chunk 8: http status: 403, code: -1 - https://api.spotify.com/v1/audio-features/?ids=0N3W5peJUQtI4eyR6GJT5O,5jHilrZDaP1vJMZfdN1He3,6P6HGbOoWUynE2U7yLwLnY,4gHV947Q9UAUse8jl8agb6,6wyhUr4Xw8z5uSy0AhoZfU,1wMkfavYDIX8z0S5fM2Gmg,5qbhVL3vB7HwWvb0042B7y,0fX4oNGBWO3dSGUZcVdVV2,5Gt9bxniM1SxN61yRzRhXL,1XvkMeJo7OAFrzcRyGbP82,1REVvAphiSTJyKQ1fDpHa4,6BU1RZexmvJcBjgagVVt3M,3lzUeaCbcCDB5IXYfqWRlF,3drdWsJKiVCSQ2gKhd9BDT,6CmpZfKUQ2KerzBFZ3QKFr,6fIjnWrv46njJHLDAY2JdC,15hJmqqEtASVXl6sM7i4UF,3OEjvmEBRrdTYbbrkiXG8a,6UjwKoH47d2FveB38u8Si9,3aaRK3htdVkK2pqOI64FEb:\n",
      " None, reason: None\n"
     ]
    },
    {
     "name": "stderr",
     "output_type": "stream",
     "text": [
      "HTTP Error for GET to https://api.spotify.com/v1/audio-features/?ids=0zO8ctW0UiuOefR87OeJOZ,5OIz27S6SQOJtweneBd6QP,7uZqvqXzzYMKrexKxdcGmd,3F5CgOj3wFlRv51JsHbxhe,3tFed7YsjGnIfxeLEQwx3R,2wGSgTmgSF3xjRrHkTc25R,3tmpJN9fGVkrhlNkZVgH90,0IH3D0P8OrQFs6ajcqbm0R,2BcMwX1MPV6ZHP4tUT9uq6,127QTOFJsJQp5LbJbu3A1y,2durxb17bXcmQJHSt8JAdO,4DSS2IhBFgW7MYyjkOOx68,59nOXPmaKlBfGMDeOVGrIK,6M0S1ZvAPD1Lx7WMmPNuWB,5WDbxxpN6VvoYG57qZfGhu,5ZEdSY99Mj5U4MIF97EKER,6WI33r2QRxyxttn3KH0XkC,5O59s7bCgTFsXDXlWecyQ1,2Kh1bNimYKyUI5KQsVTQuE,3V7choSVaP2zUqtIYpfynG with Params: {} returned 403 due to None\n",
      "HTTP Error for GET to https://api.spotify.com/v1/audio-features/?ids=51c94ac31swyDQj9B3Lzs3,11qa6plS660rrrkf6VJ3cX,2ddmLELgd6KaAKvZyh7LjF,4haJoBPbPj9QFKNpp9e8kx,5TXDeTFVRVY7Cvt0Dw4vWW,5TXDeTFVRVY7Cvt0Dw4vWW,2pfX8Wf4Unns6Jt3lThEjk,2NM0qHzx4Ohy8iXHEEgwlO,01T3rX1gEOuaFaYXBleOw0,6sLLOGba3eASfNam3bA8wV,1Ci4wASMY4xtKVMeHA6Sd5,1eLU27PPFxBhbp1CBjPh9J,4Mb5DVgLbFjlSwcuMdOw7B,3mWpUEBYnv9SIFWfixSJFx,078lbDGGTqBuTKU3bypXxQ,1WWCpeMyByhHYM2K9atukB,4Sp4AgLbWeqddzY7DNhJFv,5R443dM3IGHeWtVuro7DQA,2XHzzp1j4IfTNp1FTn7YFg,7DKUPwv37Z3ihHc4IoCav0 with Params: {} returned 403 due to None\n",
      "HTTP Error for GET to https://api.spotify.com/v1/audio-features/?ids=080u84oirhdF04fnLjJk6b,1AufKRy3qVHdHmbwusee6A,527k23H0A4Q0UJN3vGs0Da,46s57QULU02Voy0Kup6UEb,2r6OAV3WsYtXuXjvJ1lIDi,3oHkMCVJyOcjg5FhfLc2Rq,3DWjFSDEQ9IWz1mj449fB7,57BGVV6wcyhbn3hsjlqEZB,1bDbXMyjaUIooNwFE9wn0N,5unjCay0kUjuej5ebn4nS4,2KLwPaRDOB87XOYAT2fgxh,5H4mXWKcicuLKDn4Jy0sK7,3EMp20j5E42MxfFbsEsIvD,433P7tDcIAi6NLnf4Sh6tI,2ZL7WZcjuYKi1KUDtp4kCC,34tz0eDhGuFErIuW3q4mPX,45pUWUeEWGoSdH6UF162G8,5BXGLYOc7VY1YZsrLYDOxZ,12CNybio0Bxean3F3uYugU,26bZSUEaSfyPa4gTsAKxZq with Params: {} returned 403 due to None\n"
     ]
    },
    {
     "name": "stdout",
     "output_type": "stream",
     "text": [
      "Error while fetching features for chunk 9: http status: 403, code: -1 - https://api.spotify.com/v1/audio-features/?ids=0zO8ctW0UiuOefR87OeJOZ,5OIz27S6SQOJtweneBd6QP,7uZqvqXzzYMKrexKxdcGmd,3F5CgOj3wFlRv51JsHbxhe,3tFed7YsjGnIfxeLEQwx3R,2wGSgTmgSF3xjRrHkTc25R,3tmpJN9fGVkrhlNkZVgH90,0IH3D0P8OrQFs6ajcqbm0R,2BcMwX1MPV6ZHP4tUT9uq6,127QTOFJsJQp5LbJbu3A1y,2durxb17bXcmQJHSt8JAdO,4DSS2IhBFgW7MYyjkOOx68,59nOXPmaKlBfGMDeOVGrIK,6M0S1ZvAPD1Lx7WMmPNuWB,5WDbxxpN6VvoYG57qZfGhu,5ZEdSY99Mj5U4MIF97EKER,6WI33r2QRxyxttn3KH0XkC,5O59s7bCgTFsXDXlWecyQ1,2Kh1bNimYKyUI5KQsVTQuE,3V7choSVaP2zUqtIYpfynG:\n",
      " None, reason: None\n",
      "Error while fetching features for chunk 10: http status: 403, code: -1 - https://api.spotify.com/v1/audio-features/?ids=51c94ac31swyDQj9B3Lzs3,11qa6plS660rrrkf6VJ3cX,2ddmLELgd6KaAKvZyh7LjF,4haJoBPbPj9QFKNpp9e8kx,5TXDeTFVRVY7Cvt0Dw4vWW,5TXDeTFVRVY7Cvt0Dw4vWW,2pfX8Wf4Unns6Jt3lThEjk,2NM0qHzx4Ohy8iXHEEgwlO,01T3rX1gEOuaFaYXBleOw0,6sLLOGba3eASfNam3bA8wV,1Ci4wASMY4xtKVMeHA6Sd5,1eLU27PPFxBhbp1CBjPh9J,4Mb5DVgLbFjlSwcuMdOw7B,3mWpUEBYnv9SIFWfixSJFx,078lbDGGTqBuTKU3bypXxQ,1WWCpeMyByhHYM2K9atukB,4Sp4AgLbWeqddzY7DNhJFv,5R443dM3IGHeWtVuro7DQA,2XHzzp1j4IfTNp1FTn7YFg,7DKUPwv37Z3ihHc4IoCav0:\n",
      " None, reason: None\n",
      "Error while fetching features for chunk 11: http status: 403, code: -1 - https://api.spotify.com/v1/audio-features/?ids=080u84oirhdF04fnLjJk6b,1AufKRy3qVHdHmbwusee6A,527k23H0A4Q0UJN3vGs0Da,46s57QULU02Voy0Kup6UEb,2r6OAV3WsYtXuXjvJ1lIDi,3oHkMCVJyOcjg5FhfLc2Rq,3DWjFSDEQ9IWz1mj449fB7,57BGVV6wcyhbn3hsjlqEZB,1bDbXMyjaUIooNwFE9wn0N,5unjCay0kUjuej5ebn4nS4,2KLwPaRDOB87XOYAT2fgxh,5H4mXWKcicuLKDn4Jy0sK7,3EMp20j5E42MxfFbsEsIvD,433P7tDcIAi6NLnf4Sh6tI,2ZL7WZcjuYKi1KUDtp4kCC,34tz0eDhGuFErIuW3q4mPX,45pUWUeEWGoSdH6UF162G8,5BXGLYOc7VY1YZsrLYDOxZ,12CNybio0Bxean3F3uYugU,26bZSUEaSfyPa4gTsAKxZq:\n",
      " None, reason: None\n"
     ]
    },
    {
     "name": "stderr",
     "output_type": "stream",
     "text": [
      "HTTP Error for GET to https://api.spotify.com/v1/audio-features/?ids=3GVkPk8mqxz0itaAriG1L7,0xta6Gah3inmeHbj0e3F9a,4N9QsmvQJcGwJHAmDmBttU,0JP9xo3adEtGSdUEISiszL,1Is8hGpkGMiePASAxBluxM,0YImOCkIJ2PWhCXaURCZnY,3SAga35lAPYdjj3qyfEsCF,609mekAwxC90JkQ4BDo9IK,7wTA0NKIm6T7nP2kaymU2a,7LB3ilSpX1mSMKKztNTnu2,6gbiTbclnHlmSIPfmF2zEc,5ClRKRmW1p6RQcdwzY1kNJ,5Ee4IyhPaOVRMc15fUOeG9,4WuOWVnAqvEQxgSRrspBgt,7aRCf5cLOFN1U7kvtChY1G,14qNHvX8h6HoynFuV0RxWS,5hVghJ4KaYES3BFUATCYn0,2FqqVHvC4eKrsk97vpMRid,7EiZI6JVHllARrX9PUvAdX,4KW1lqgSr8TKrvBII0Brf8 with Params: {} returned 403 due to None\n",
      "HTTP Error for GET to https://api.spotify.com/v1/audio-features/?ids=6tZ3b7ik1QDXFAZlXib0YZ,2e3Ea0o24lReQFR4FA7yXH,1pacwLXyRO47ka0v6LTIiY,6n849Tolbsyapue50SlLWS,1qA7crrPzO702kDZgRAhyk,4FyesJzVpA39hbYvcseO2d,0E2x4weitjqmzFilfqV4do,0lodMO0qK83vfPiiD7FMEt,7aqfrAY2p9BUSiupwk3svU,1iUlclkUb1sXcmrDqfQkIH,42VsgItocQwOQC3XWZ8JNA,0Fg88OWOdERXLMDcTWYwjf,5gFoAVTN9YlM9uJCrFZtgl,5BOBHIBuzvQuIYL1E1nDzl,2ut4BOQSqxLpcX5MtPjzYa,5wG3HvLhF6Y5KTGlK0IW3J,2yUzr8Sr6ldG8vmHhZwTnz,4NOZ35Dhucr6UlVyLOtktd,2Hh3ETdQKrmSI3QS0hme7g,2yUzr8Sr6ldG8vmHhZwTnz with Params: {} returned 403 due to None\n",
      "HTTP Error for GET to https://api.spotify.com/v1/audio-features/?ids=1PH2MDbcBAU094DlgTIND1,6koKhrBBcExADvWuOgceNZ,29YW2xXlo6Pc6M0SBTCXYN,0U1bfnMhuViHvUhDfxp1NX,4kjI1gwQZRKNDkw1nI475M,7wBJfHzpfI3032CSD7CE2m,6BJbOXDlgVAXSaq6wYFYT2,1m8WpLYXEiNVZchsWEcCSy,51RaJOy09JMFHyPaDgXxBO,0Mrnt1YqVuW2bqmwu4VxDt,2nibvvDdAQkVraYP00z2RS,2tudvzsrR56uom6smgOcSf,28drn6tQo95MRvO0jQEo5C,0hKtu53OlIFXVuYkZwcn3o,3OxL6MuctgZp1e0zxoAZhH,1DAibqbopEYULPEtE8WHTE,5RMTsrJkrtumtiIZjy7dL6,2FHWBjHpAQFos1OmsW4h0i,70ToiXlzl8N1EgfC07ZcZE,0cGn4vxyoBftN61XUv2aQk with Params: {} returned 403 due to None\n"
     ]
    },
    {
     "name": "stdout",
     "output_type": "stream",
     "text": [
      "Error while fetching features for chunk 12: http status: 403, code: -1 - https://api.spotify.com/v1/audio-features/?ids=3GVkPk8mqxz0itaAriG1L7,0xta6Gah3inmeHbj0e3F9a,4N9QsmvQJcGwJHAmDmBttU,0JP9xo3adEtGSdUEISiszL,1Is8hGpkGMiePASAxBluxM,0YImOCkIJ2PWhCXaURCZnY,3SAga35lAPYdjj3qyfEsCF,609mekAwxC90JkQ4BDo9IK,7wTA0NKIm6T7nP2kaymU2a,7LB3ilSpX1mSMKKztNTnu2,6gbiTbclnHlmSIPfmF2zEc,5ClRKRmW1p6RQcdwzY1kNJ,5Ee4IyhPaOVRMc15fUOeG9,4WuOWVnAqvEQxgSRrspBgt,7aRCf5cLOFN1U7kvtChY1G,14qNHvX8h6HoynFuV0RxWS,5hVghJ4KaYES3BFUATCYn0,2FqqVHvC4eKrsk97vpMRid,7EiZI6JVHllARrX9PUvAdX,4KW1lqgSr8TKrvBII0Brf8:\n",
      " None, reason: None\n",
      "Error while fetching features for chunk 13: http status: 403, code: -1 - https://api.spotify.com/v1/audio-features/?ids=6tZ3b7ik1QDXFAZlXib0YZ,2e3Ea0o24lReQFR4FA7yXH,1pacwLXyRO47ka0v6LTIiY,6n849Tolbsyapue50SlLWS,1qA7crrPzO702kDZgRAhyk,4FyesJzVpA39hbYvcseO2d,0E2x4weitjqmzFilfqV4do,0lodMO0qK83vfPiiD7FMEt,7aqfrAY2p9BUSiupwk3svU,1iUlclkUb1sXcmrDqfQkIH,42VsgItocQwOQC3XWZ8JNA,0Fg88OWOdERXLMDcTWYwjf,5gFoAVTN9YlM9uJCrFZtgl,5BOBHIBuzvQuIYL1E1nDzl,2ut4BOQSqxLpcX5MtPjzYa,5wG3HvLhF6Y5KTGlK0IW3J,2yUzr8Sr6ldG8vmHhZwTnz,4NOZ35Dhucr6UlVyLOtktd,2Hh3ETdQKrmSI3QS0hme7g,2yUzr8Sr6ldG8vmHhZwTnz:\n",
      " None, reason: None\n",
      "Error while fetching features for chunk 14: http status: 403, code: -1 - https://api.spotify.com/v1/audio-features/?ids=1PH2MDbcBAU094DlgTIND1,6koKhrBBcExADvWuOgceNZ,29YW2xXlo6Pc6M0SBTCXYN,0U1bfnMhuViHvUhDfxp1NX,4kjI1gwQZRKNDkw1nI475M,7wBJfHzpfI3032CSD7CE2m,6BJbOXDlgVAXSaq6wYFYT2,1m8WpLYXEiNVZchsWEcCSy,51RaJOy09JMFHyPaDgXxBO,0Mrnt1YqVuW2bqmwu4VxDt,2nibvvDdAQkVraYP00z2RS,2tudvzsrR56uom6smgOcSf,28drn6tQo95MRvO0jQEo5C,0hKtu53OlIFXVuYkZwcn3o,3OxL6MuctgZp1e0zxoAZhH,1DAibqbopEYULPEtE8WHTE,5RMTsrJkrtumtiIZjy7dL6,2FHWBjHpAQFos1OmsW4h0i,70ToiXlzl8N1EgfC07ZcZE,0cGn4vxyoBftN61XUv2aQk:\n",
      " None, reason: None\n"
     ]
    },
    {
     "name": "stderr",
     "output_type": "stream",
     "text": [
      "HTTP Error for GET to https://api.spotify.com/v1/audio-features/?ids=4Orf7Hvci6SZrPIoUjGuFY,016z46SJwcRosW9Xb8JKmF,3eh51r6rFWAlGQRlHx9QnQ,7MmG8p0F9N3C4AXdK6o6Eb,77DRzu7ERs0TX3roZcre7Q,1wFFFzJ5EsKbBWZriAcubN,6AI3ezQ4o3HUoP6Dhudph3,6Aj2H0Z0v0JgnSfPEwCgW0,4VnYL2m6J9kWrBSw22CXwx,16utyJfWZGkTWYDobMzND7,4nva9EpKntUTs6CRSGBCn9,2Gk6fi0dqt91NKvlzGsmm7,4CdAc7V4hUe1cuJAjnPpSQ,6bLopGnirdrilrpdVB6Um1,1qIwin7JMVuX70qN6wD8ww,1D3z6HTiQsNmZxjl7F7eoG,4b7vk8SRcYgnxpk0JOIS7r,4nhcjelU9PidsBzUkazfZs,1560osUcXrnov6yuOjXvc1,5gzEL5O1ubbtIHUhLkSMTz with Params: {} returned 403 due to None\n",
      "HTTP Error for GET to https://api.spotify.com/v1/audio-features/?ids=1lloYB6uHOTDmheiWsq4DL,69phA1R4gmQsBFRQ3INW8C,3iRCr53b2ZOvoKMTNvBn5d,6bpFKtmybxjGaO7OSOQqOc,3rXlcLZk3MCaRPND5g9QiW,0FIDCNYYjNvPVimz5icugS,6ToUq75iHEOgqD1lT0eJoh,1ITpqT1kDATCtMBwOK7sYn,0bkV1iQHSxBaksUqgEkcbc,124IHGAzY9F3unizZ08iRc,7CyPwkp0oE8Ro9Dd5CUDjW,1wGnp7ejkCuXRsehXx0PNP,1tTKy8pW1dMaXJm7bYrSzA,3TN2HZSll8ueBFtt88VbfX,4pftaoQbbheCXSdleWIeDK,0NUqi0ps17YpLUC3kgsZq0,2u9S9JJ6hTZS3Vf22HOZKg,5Nz7hI3cCOHmMR4vSLJ1An,3FHO87BSOEVAsedSnCTnvz,0aB0v4027ukVziUGwVGYpG with Params: {} returned 403 due to None\n",
      "HTTP Error for GET to https://api.spotify.com/v1/audio-features/?ids=6s8WSX1MxNThrot8ThI6fG,2Adxpr1j5lSihOCsmIfflJ,76gcXhY3Zv6wW0BTe9nHJo,0a4SMs889NwP8oWI7Vemle,0bkV1iQHSxBaksUqgEkcbc,5BwQjRasNcdRPuVWKcHto2,2cH8wHImerFokgmhjyhCTU,37F0uwRSrdzkBiuj0D5UHI,1pzN8bCzy017iK3vWzkk6Z,1cZlBZwnwGPtYeRIeQcoFh,5SIvP6TdWc9DNvKbENjnYc,68qeaZhtMZ6abrJCYt6nQn,2n9fC0A4ptmWqYeMXEVaok,1pzN8bCzy017iK3vWzkk6Z,6iycYUk3oB0NPMdaDUrN1w,6iycYUk3oB0NPMdaDUrN1w,0uMsWm3xNlXkQ7q78Q0QKq,2YVkpynbH4lrZQZSJiaICM,2RWlRSi9TthgUka2yrLnrD,0vfYm96cD1zSVftNMEGqff with Params: {} returned 403 due to None\n"
     ]
    },
    {
     "name": "stdout",
     "output_type": "stream",
     "text": [
      "Error while fetching features for chunk 15: http status: 403, code: -1 - https://api.spotify.com/v1/audio-features/?ids=4Orf7Hvci6SZrPIoUjGuFY,016z46SJwcRosW9Xb8JKmF,3eh51r6rFWAlGQRlHx9QnQ,7MmG8p0F9N3C4AXdK6o6Eb,77DRzu7ERs0TX3roZcre7Q,1wFFFzJ5EsKbBWZriAcubN,6AI3ezQ4o3HUoP6Dhudph3,6Aj2H0Z0v0JgnSfPEwCgW0,4VnYL2m6J9kWrBSw22CXwx,16utyJfWZGkTWYDobMzND7,4nva9EpKntUTs6CRSGBCn9,2Gk6fi0dqt91NKvlzGsmm7,4CdAc7V4hUe1cuJAjnPpSQ,6bLopGnirdrilrpdVB6Um1,1qIwin7JMVuX70qN6wD8ww,1D3z6HTiQsNmZxjl7F7eoG,4b7vk8SRcYgnxpk0JOIS7r,4nhcjelU9PidsBzUkazfZs,1560osUcXrnov6yuOjXvc1,5gzEL5O1ubbtIHUhLkSMTz:\n",
      " None, reason: None\n",
      "Error while fetching features for chunk 16: http status: 403, code: -1 - https://api.spotify.com/v1/audio-features/?ids=1lloYB6uHOTDmheiWsq4DL,69phA1R4gmQsBFRQ3INW8C,3iRCr53b2ZOvoKMTNvBn5d,6bpFKtmybxjGaO7OSOQqOc,3rXlcLZk3MCaRPND5g9QiW,0FIDCNYYjNvPVimz5icugS,6ToUq75iHEOgqD1lT0eJoh,1ITpqT1kDATCtMBwOK7sYn,0bkV1iQHSxBaksUqgEkcbc,124IHGAzY9F3unizZ08iRc,7CyPwkp0oE8Ro9Dd5CUDjW,1wGnp7ejkCuXRsehXx0PNP,1tTKy8pW1dMaXJm7bYrSzA,3TN2HZSll8ueBFtt88VbfX,4pftaoQbbheCXSdleWIeDK,0NUqi0ps17YpLUC3kgsZq0,2u9S9JJ6hTZS3Vf22HOZKg,5Nz7hI3cCOHmMR4vSLJ1An,3FHO87BSOEVAsedSnCTnvz,0aB0v4027ukVziUGwVGYpG:\n",
      " None, reason: None\n",
      "Error while fetching features for chunk 17: http status: 403, code: -1 - https://api.spotify.com/v1/audio-features/?ids=6s8WSX1MxNThrot8ThI6fG,2Adxpr1j5lSihOCsmIfflJ,76gcXhY3Zv6wW0BTe9nHJo,0a4SMs889NwP8oWI7Vemle,0bkV1iQHSxBaksUqgEkcbc,5BwQjRasNcdRPuVWKcHto2,2cH8wHImerFokgmhjyhCTU,37F0uwRSrdzkBiuj0D5UHI,1pzN8bCzy017iK3vWzkk6Z,1cZlBZwnwGPtYeRIeQcoFh,5SIvP6TdWc9DNvKbENjnYc,68qeaZhtMZ6abrJCYt6nQn,2n9fC0A4ptmWqYeMXEVaok,1pzN8bCzy017iK3vWzkk6Z,6iycYUk3oB0NPMdaDUrN1w,6iycYUk3oB0NPMdaDUrN1w,0uMsWm3xNlXkQ7q78Q0QKq,2YVkpynbH4lrZQZSJiaICM,2RWlRSi9TthgUka2yrLnrD,0vfYm96cD1zSVftNMEGqff:\n",
      " None, reason: None\n"
     ]
    },
    {
     "name": "stderr",
     "output_type": "stream",
     "text": [
      "HTTP Error for GET to https://api.spotify.com/v1/audio-features/?ids=53WWD2BBC6Jcip8wy5CniE,42pKWuJst0oAuUbTvkNqr6,5a1ChasrKutw0MUpmGWo2w,6hPSal3ragmfUt1I5mKZjn,1OFQT3lHGbnn3x9jPtagXk,4XcZp2xqbiD8YsnPboNUDo,4Qay2jEWJYjXmJ8eNOGtaD,6VObnIkLVruX4UVyxWhlqm,7aVjnFsARHuTBZzkR6rYOR,37Qn9foJ2E2S24guZSyvyg,4AmISPiQJMPLN4KootjCUu with Params: {} returned 403 due to None\n"
     ]
    },
    {
     "name": "stdout",
     "output_type": "stream",
     "text": [
      "Error while fetching features for chunk 18: http status: 403, code: -1 - https://api.spotify.com/v1/audio-features/?ids=53WWD2BBC6Jcip8wy5CniE,42pKWuJst0oAuUbTvkNqr6,5a1ChasrKutw0MUpmGWo2w,6hPSal3ragmfUt1I5mKZjn,1OFQT3lHGbnn3x9jPtagXk,4XcZp2xqbiD8YsnPboNUDo,4Qay2jEWJYjXmJ8eNOGtaD,6VObnIkLVruX4UVyxWhlqm,7aVjnFsARHuTBZzkR6rYOR,37Qn9foJ2E2S24guZSyvyg,4AmISPiQJMPLN4KootjCUu:\n",
      " None, reason: None\n"
     ]
    }
   ],
   "source": [
    "# Spotify API'den audio özelliklerini almak için şarkı ID'lerini gruplara ayıralım\n",
    "def fetch_audio_features_in_chunks(track_ids, chunk_size=20):\n",
    "    features = []\n",
    "    for i in range(0, len(track_ids), chunk_size):\n",
    "        chunk = track_ids[i:i + chunk_size]\n",
    "        try:\n",
    "            # API'yi her seferinde küçük bir grup ile sorgulama\n",
    "            results = sp.audio_features(chunk)\n",
    "            features.extend(results)\n",
    "        except Exception as e:\n",
    "            print(f\"Error while fetching features for chunk {i // chunk_size + 1}: {e}\")\n",
    "    return features\n",
    "\n",
    "# Şarkı ID'lerini 100'lü gruplara ayırarak audio özelliklerini çekme\n",
    "track_ids = df_features['track_id'].tolist()  # track_id'lerin olduğu liste\n",
    "audio_features = fetch_audio_features_in_chunks(track_ids)\n"
   ]
  },
  {
   "cell_type": "code",
   "execution_count": 19,
   "id": "e8fe2e90",
   "metadata": {},
   "outputs": [
    {
     "data": {
      "text/plain": [
       "[]"
      ]
     },
     "execution_count": 19,
     "metadata": {},
     "output_type": "execute_result"
    }
   ],
   "source": [
    "audio_features"
   ]
  },
  {
   "cell_type": "code",
   "execution_count": null,
   "id": "0a55fcc3",
   "metadata": {},
   "outputs": [],
   "source": []
  }
 ],
 "metadata": {
  "kernelspec": {
   "display_name": "base",
   "language": "python",
   "name": "python3"
  },
  "language_info": {
   "codemirror_mode": {
    "name": "ipython",
    "version": 3
   },
   "file_extension": ".py",
   "mimetype": "text/x-python",
   "name": "python",
   "nbconvert_exporter": "python",
   "pygments_lexer": "ipython3",
   "version": "3.12.7"
  }
 },
 "nbformat": 4,
 "nbformat_minor": 5
}
